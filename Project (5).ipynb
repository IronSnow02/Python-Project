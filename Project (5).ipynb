{
 "cells": [
  {
   "cell_type": "code",
   "execution_count": 1,
   "id": "8cbcfc64",
   "metadata": {},
   "outputs": [],
   "source": [
    "import numpy as np\n",
    "from scipy.optimize import curve_fit\n",
    "import matplotlib.pyplot as plt\n",
    "import pandas as pd\n",
    "import math\n",
    "from sklearn.metrics import r2_score\n",
    "from sklearn.metrics import mean_squared_error\n",
    "from sklearn.model_selection import train_test_split"
   ]
  },
  {
   "cell_type": "code",
   "execution_count": 2,
   "id": "9eee27c7",
   "metadata": {},
   "outputs": [],
   "source": [
    "data= pd.read_csv('DataSet.csv')\n",
    "\n",
    "data_tr = data.sample(frac=0.8, random_state=500)\n",
    "data_te = data.drop(data_tr.index)"
   ]
  },
  {
   "cell_type": "code",
   "execution_count": 3,
   "id": "37ad5512",
   "metadata": {
    "scrolled": true
   },
   "outputs": [
    {
     "data": {
      "text/html": [
       "<div>\n",
       "<style scoped>\n",
       "    .dataframe tbody tr th:only-of-type {\n",
       "        vertical-align: middle;\n",
       "    }\n",
       "\n",
       "    .dataframe tbody tr th {\n",
       "        vertical-align: top;\n",
       "    }\n",
       "\n",
       "    .dataframe thead th {\n",
       "        text-align: right;\n",
       "    }\n",
       "</style>\n",
       "<table border=\"1\" class=\"dataframe\">\n",
       "  <thead>\n",
       "    <tr style=\"text-align: right;\">\n",
       "      <th></th>\n",
       "      <th>State</th>\n",
       "      <th>Population(In millions)</th>\n",
       "      <th>Income</th>\n",
       "      <th>Size(sq. miles)</th>\n",
       "      <th>Temperature</th>\n",
       "      <th>TotalCapitalOutlays</th>\n",
       "      <th>PopualtionDensity</th>\n",
       "      <th>Politicalscore</th>\n",
       "      <th>Precipitation</th>\n",
       "    </tr>\n",
       "  </thead>\n",
       "  <tbody>\n",
       "    <tr>\n",
       "      <th>25</th>\n",
       "      <td>Nevada</td>\n",
       "      <td>2.998333</td>\n",
       "      <td>49185.66667</td>\n",
       "      <td>110572</td>\n",
       "      <td>51.966667</td>\n",
       "      <td>1193.666667</td>\n",
       "      <td>27.110982</td>\n",
       "      <td>0.555556</td>\n",
       "      <td>10.433333</td>\n",
       "    </tr>\n",
       "    <tr>\n",
       "      <th>22</th>\n",
       "      <td>Missouri</td>\n",
       "      <td>6.113333</td>\n",
       "      <td>46860.83333</td>\n",
       "      <td>69707</td>\n",
       "      <td>55.950000</td>\n",
       "      <td>806.166667</td>\n",
       "      <td>87.747168</td>\n",
       "      <td>0.280034</td>\n",
       "      <td>46.595000</td>\n",
       "    </tr>\n",
       "    <tr>\n",
       "      <th>37</th>\n",
       "      <td>South Carolina</td>\n",
       "      <td>5.045000</td>\n",
       "      <td>43988.33333</td>\n",
       "      <td>32020</td>\n",
       "      <td>64.583333</td>\n",
       "      <td>1056.333333</td>\n",
       "      <td>157.474329</td>\n",
       "      <td>0.369608</td>\n",
       "      <td>52.780000</td>\n",
       "    </tr>\n",
       "    <tr>\n",
       "      <th>42</th>\n",
       "      <td>Vermont</td>\n",
       "      <td>0.625000</td>\n",
       "      <td>52735.83333</td>\n",
       "      <td>9217</td>\n",
       "      <td>43.483333</td>\n",
       "      <td>958.666667</td>\n",
       "      <td>68.121099</td>\n",
       "      <td>0.605556</td>\n",
       "      <td>44.340000</td>\n",
       "    </tr>\n",
       "    <tr>\n",
       "      <th>41</th>\n",
       "      <td>Utah</td>\n",
       "      <td>3.126667</td>\n",
       "      <td>45320.00000</td>\n",
       "      <td>84897</td>\n",
       "      <td>50.100000</td>\n",
       "      <td>1468.000000</td>\n",
       "      <td>36.832002</td>\n",
       "      <td>0.182692</td>\n",
       "      <td>13.006667</td>\n",
       "    </tr>\n",
       "    <tr>\n",
       "      <th>16</th>\n",
       "      <td>Maine</td>\n",
       "      <td>1.338333</td>\n",
       "      <td>48095.16667</td>\n",
       "      <td>35380</td>\n",
       "      <td>42.083333</td>\n",
       "      <td>721.500000</td>\n",
       "      <td>37.900137</td>\n",
       "      <td>0.528674</td>\n",
       "      <td>44.485000</td>\n",
       "    </tr>\n",
       "    <tr>\n",
       "      <th>24</th>\n",
       "      <td>Nebraska</td>\n",
       "      <td>1.923333</td>\n",
       "      <td>52263.16667</td>\n",
       "      <td>77348</td>\n",
       "      <td>49.816667</td>\n",
       "      <td>1786.666667</td>\n",
       "      <td>24.855474</td>\n",
       "      <td>0.302721</td>\n",
       "      <td>26.260000</td>\n",
       "    </tr>\n",
       "    <tr>\n",
       "      <th>4</th>\n",
       "      <td>Colorado</td>\n",
       "      <td>5.638333</td>\n",
       "      <td>57652.50000</td>\n",
       "      <td>104094</td>\n",
       "      <td>47.033333</td>\n",
       "      <td>1448.166667</td>\n",
       "      <td>54.189720</td>\n",
       "      <td>0.546667</td>\n",
       "      <td>17.303333</td>\n",
       "    </tr>\n",
       "    <tr>\n",
       "      <th>20</th>\n",
       "      <td>Minnesota</td>\n",
       "      <td>5.588333</td>\n",
       "      <td>56028.16667</td>\n",
       "      <td>86936</td>\n",
       "      <td>42.083333</td>\n",
       "      <td>1458.000000</td>\n",
       "      <td>64.288584</td>\n",
       "      <td>0.493367</td>\n",
       "      <td>30.240000</td>\n",
       "    </tr>\n",
       "    <tr>\n",
       "      <th>12</th>\n",
       "      <td>Iowa</td>\n",
       "      <td>3.148333</td>\n",
       "      <td>48747.16667</td>\n",
       "      <td>56273</td>\n",
       "      <td>48.816667</td>\n",
       "      <td>1540.666667</td>\n",
       "      <td>55.975186</td>\n",
       "      <td>0.432222</td>\n",
       "      <td>38.163333</td>\n",
       "    </tr>\n",
       "    <tr>\n",
       "      <th>3</th>\n",
       "      <td>California</td>\n",
       "      <td>39.288333</td>\n",
       "      <td>61164.00000</td>\n",
       "      <td>163695</td>\n",
       "      <td>60.066667</td>\n",
       "      <td>1279.333333</td>\n",
       "      <td>240.085284</td>\n",
       "      <td>0.687500</td>\n",
       "      <td>21.370000</td>\n",
       "    </tr>\n",
       "    <tr>\n",
       "      <th>47</th>\n",
       "      <td>Wyoming</td>\n",
       "      <td>0.581667</td>\n",
       "      <td>60038.00000</td>\n",
       "      <td>97093</td>\n",
       "      <td>42.150000</td>\n",
       "      <td>2513.333333</td>\n",
       "      <td>5.986781</td>\n",
       "      <td>0.137037</td>\n",
       "      <td>16.471667</td>\n",
       "    </tr>\n",
       "    <tr>\n",
       "      <th>6</th>\n",
       "      <td>Delaware</td>\n",
       "      <td>0.964258</td>\n",
       "      <td>51712.66667</td>\n",
       "      <td>2489</td>\n",
       "      <td>57.216667</td>\n",
       "      <td>1218.500000</td>\n",
       "      <td>387.277153</td>\n",
       "      <td>0.596774</td>\n",
       "      <td>48.905000</td>\n",
       "    </tr>\n",
       "    <tr>\n",
       "      <th>46</th>\n",
       "      <td>Wisconsin</td>\n",
       "      <td>5.806667</td>\n",
       "      <td>50375.50000</td>\n",
       "      <td>54158</td>\n",
       "      <td>44.183333</td>\n",
       "      <td>1111.500000</td>\n",
       "      <td>107.275201</td>\n",
       "      <td>0.372475</td>\n",
       "      <td>38.553333</td>\n",
       "    </tr>\n",
       "    <tr>\n",
       "      <th>23</th>\n",
       "      <td>Montana</td>\n",
       "      <td>1.056667</td>\n",
       "      <td>47674.50000</td>\n",
       "      <td>147040</td>\n",
       "      <td>42.816667</td>\n",
       "      <td>1109.333333</td>\n",
       "      <td>7.190402</td>\n",
       "      <td>0.406667</td>\n",
       "      <td>18.960000</td>\n",
       "    </tr>\n",
       "    <tr>\n",
       "      <th>0</th>\n",
       "      <td>Alabama</td>\n",
       "      <td>4.898333</td>\n",
       "      <td>59122.00000</td>\n",
       "      <td>665384</td>\n",
       "      <td>64.816667</td>\n",
       "      <td>3259.500000</td>\n",
       "      <td>7.370052</td>\n",
       "      <td>0.278571</td>\n",
       "      <td>59.988333</td>\n",
       "    </tr>\n",
       "    <tr>\n",
       "      <th>38</th>\n",
       "      <td>South Dakota</td>\n",
       "      <td>0.873333</td>\n",
       "      <td>52731.33333</td>\n",
       "      <td>77116</td>\n",
       "      <td>45.866667</td>\n",
       "      <td>1432.500000</td>\n",
       "      <td>11.336316</td>\n",
       "      <td>0.165079</td>\n",
       "      <td>21.985000</td>\n",
       "    </tr>\n",
       "    <tr>\n",
       "      <th>5</th>\n",
       "      <td>Connecticut</td>\n",
       "      <td>3.580000</td>\n",
       "      <td>72155.66667</td>\n",
       "      <td>5543</td>\n",
       "      <td>50.750000</td>\n",
       "      <td>1159.500000</td>\n",
       "      <td>646.167599</td>\n",
       "      <td>0.567736</td>\n",
       "      <td>46.225000</td>\n",
       "    </tr>\n",
       "    <tr>\n",
       "      <th>36</th>\n",
       "      <td>Rhode Island</td>\n",
       "      <td>1.066667</td>\n",
       "      <td>52879.66667</td>\n",
       "      <td>1545</td>\n",
       "      <td>51.466667</td>\n",
       "      <td>793.000000</td>\n",
       "      <td>688.903021</td>\n",
       "      <td>0.858407</td>\n",
       "      <td>49.343333</td>\n",
       "    </tr>\n",
       "    <tr>\n",
       "      <th>15</th>\n",
       "      <td>Louisiana</td>\n",
       "      <td>4.663333</td>\n",
       "      <td>45738.00000</td>\n",
       "      <td>52378</td>\n",
       "      <td>68.133333</td>\n",
       "      <td>1061.333333</td>\n",
       "      <td>89.103914</td>\n",
       "      <td>0.375000</td>\n",
       "      <td>65.611667</td>\n",
       "    </tr>\n",
       "    <tr>\n",
       "      <th>35</th>\n",
       "      <td>Pennsylvania</td>\n",
       "      <td>12.823333</td>\n",
       "      <td>54366.00000</td>\n",
       "      <td>46054</td>\n",
       "      <td>50.200000</td>\n",
       "      <td>1165.166667</td>\n",
       "      <td>278.599307</td>\n",
       "      <td>0.411726</td>\n",
       "      <td>47.798333</td>\n",
       "    </tr>\n",
       "    <tr>\n",
       "      <th>28</th>\n",
       "      <td>New Mexico</td>\n",
       "      <td>2.096667</td>\n",
       "      <td>41307.33333</td>\n",
       "      <td>121590</td>\n",
       "      <td>55.450000</td>\n",
       "      <td>1095.000000</td>\n",
       "      <td>17.252488</td>\n",
       "      <td>0.577381</td>\n",
       "      <td>13.586667</td>\n",
       "    </tr>\n",
       "    <tr>\n",
       "      <th>9</th>\n",
       "      <td>Idaho</td>\n",
       "      <td>1.740000</td>\n",
       "      <td>43262.16667</td>\n",
       "      <td>83569</td>\n",
       "      <td>44.666667</td>\n",
       "      <td>851.000000</td>\n",
       "      <td>20.814170</td>\n",
       "      <td>0.187302</td>\n",
       "      <td>23.951667</td>\n",
       "    </tr>\n",
       "    <tr>\n",
       "      <th>11</th>\n",
       "      <td>Indiana</td>\n",
       "      <td>6.686667</td>\n",
       "      <td>46540.00000</td>\n",
       "      <td>36420</td>\n",
       "      <td>53.000000</td>\n",
       "      <td>970.000000</td>\n",
       "      <td>183.628167</td>\n",
       "      <td>0.271111</td>\n",
       "      <td>46.408333</td>\n",
       "    </tr>\n",
       "    <tr>\n",
       "      <th>43</th>\n",
       "      <td>Virginia</td>\n",
       "      <td>8.488333</td>\n",
       "      <td>56377.66667</td>\n",
       "      <td>39490</td>\n",
       "      <td>56.950000</td>\n",
       "      <td>1169.500000</td>\n",
       "      <td>215.054106</td>\n",
       "      <td>0.439286</td>\n",
       "      <td>51.276667</td>\n",
       "    </tr>\n",
       "    <tr>\n",
       "      <th>32</th>\n",
       "      <td>Ohio</td>\n",
       "      <td>11.683333</td>\n",
       "      <td>48034.50000</td>\n",
       "      <td>44826</td>\n",
       "      <td>52.550000</td>\n",
       "      <td>1029.333333</td>\n",
       "      <td>260.655750</td>\n",
       "      <td>0.335859</td>\n",
       "      <td>44.338333</td>\n",
       "    </tr>\n",
       "    <tr>\n",
       "      <th>29</th>\n",
       "      <td>New York</td>\n",
       "      <td>19.670000</td>\n",
       "      <td>63911.00000</td>\n",
       "      <td>54555</td>\n",
       "      <td>46.533333</td>\n",
       "      <td>1822.500000</td>\n",
       "      <td>360.785870</td>\n",
       "      <td>0.653870</td>\n",
       "      <td>43.711667</td>\n",
       "    </tr>\n",
       "    <tr>\n",
       "      <th>27</th>\n",
       "      <td>New Jersey</td>\n",
       "      <td>8.948333</td>\n",
       "      <td>64505.00000</td>\n",
       "      <td>8723</td>\n",
       "      <td>54.483333</td>\n",
       "      <td>931.333333</td>\n",
       "      <td>1026.100061</td>\n",
       "      <td>0.637500</td>\n",
       "      <td>49.088333</td>\n",
       "    </tr>\n",
       "    <tr>\n",
       "      <th>2</th>\n",
       "      <td>Arkansas</td>\n",
       "      <td>3.001667</td>\n",
       "      <td>42932.16667</td>\n",
       "      <td>53179</td>\n",
       "      <td>61.666667</td>\n",
       "      <td>932.666667</td>\n",
       "      <td>56.476153</td>\n",
       "      <td>0.279012</td>\n",
       "      <td>60.300000</td>\n",
       "    </tr>\n",
       "    <tr>\n",
       "      <th>30</th>\n",
       "      <td>North Carolina</td>\n",
       "      <td>10.305000</td>\n",
       "      <td>46099.33333</td>\n",
       "      <td>53819</td>\n",
       "      <td>60.716667</td>\n",
       "      <td>984.500000</td>\n",
       "      <td>191.403618</td>\n",
       "      <td>0.388235</td>\n",
       "      <td>57.155000</td>\n",
       "    </tr>\n",
       "    <tr>\n",
       "      <th>33</th>\n",
       "      <td>Oklahoma</td>\n",
       "      <td>3.938333</td>\n",
       "      <td>46236.16667</td>\n",
       "      <td>69899</td>\n",
       "      <td>60.916667</td>\n",
       "      <td>1216.833333</td>\n",
       "      <td>56.356982</td>\n",
       "      <td>0.232662</td>\n",
       "      <td>41.453333</td>\n",
       "    </tr>\n",
       "    <tr>\n",
       "      <th>44</th>\n",
       "      <td>Washington</td>\n",
       "      <td>7.453333</td>\n",
       "      <td>59671.00000</td>\n",
       "      <td>66456</td>\n",
       "      <td>48.033333</td>\n",
       "      <td>1743.833333</td>\n",
       "      <td>112.207819</td>\n",
       "      <td>0.532880</td>\n",
       "      <td>43.460000</td>\n",
       "    </tr>\n",
       "    <tr>\n",
       "      <th>10</th>\n",
       "      <td>Illinois</td>\n",
       "      <td>12.773333</td>\n",
       "      <td>55700.50000</td>\n",
       "      <td>57914</td>\n",
       "      <td>53.183333</td>\n",
       "      <td>1162.833333</td>\n",
       "      <td>220.630006</td>\n",
       "      <td>0.616761</td>\n",
       "      <td>43.990000</td>\n",
       "    </tr>\n",
       "    <tr>\n",
       "      <th>40</th>\n",
       "      <td>Texas</td>\n",
       "      <td>28.583333</td>\n",
       "      <td>50827.33333</td>\n",
       "      <td>268596</td>\n",
       "      <td>66.483333</td>\n",
       "      <td>1431.833333</td>\n",
       "      <td>105.753922</td>\n",
       "      <td>0.383057</td>\n",
       "      <td>31.726667</td>\n",
       "    </tr>\n",
       "    <tr>\n",
       "      <th>19</th>\n",
       "      <td>Michigan</td>\n",
       "      <td>9.983333</td>\n",
       "      <td>47275.83333</td>\n",
       "      <td>96714</td>\n",
       "      <td>45.600000</td>\n",
       "      <td>758.666667</td>\n",
       "      <td>103.250760</td>\n",
       "      <td>0.413288</td>\n",
       "      <td>36.696667</td>\n",
       "    </tr>\n",
       "    <tr>\n",
       "      <th>18</th>\n",
       "      <td>Massachusetts</td>\n",
       "      <td>6.876667</td>\n",
       "      <td>69107.33333</td>\n",
       "      <td>10554</td>\n",
       "      <td>49.483333</td>\n",
       "      <td>1306.166667</td>\n",
       "      <td>652.183122</td>\n",
       "      <td>0.792500</td>\n",
       "      <td>46.868333</td>\n",
       "    </tr>\n",
       "    <tr>\n",
       "      <th>34</th>\n",
       "      <td>Oregon</td>\n",
       "      <td>4.150000</td>\n",
       "      <td>49826.16667</td>\n",
       "      <td>98379</td>\n",
       "      <td>48.633333</td>\n",
       "      <td>1318.000000</td>\n",
       "      <td>42.177052</td>\n",
       "      <td>0.594444</td>\n",
       "      <td>30.878333</td>\n",
       "    </tr>\n",
       "    <tr>\n",
       "      <th>21</th>\n",
       "      <td>Mississippi</td>\n",
       "      <td>2.981667</td>\n",
       "      <td>38086.16667</td>\n",
       "      <td>48432</td>\n",
       "      <td>65.316667</td>\n",
       "      <td>886.333333</td>\n",
       "      <td>61.577349</td>\n",
       "      <td>0.391762</td>\n",
       "      <td>62.723333</td>\n",
       "    </tr>\n",
       "  </tbody>\n",
       "</table>\n",
       "</div>"
      ],
      "text/plain": [
       "             State  Population(In millions)       Income  Size(sq. miles)  \\\n",
       "25          Nevada                 2.998333  49185.66667           110572   \n",
       "22        Missouri                 6.113333  46860.83333            69707   \n",
       "37  South Carolina                 5.045000  43988.33333            32020   \n",
       "42         Vermont                 0.625000  52735.83333             9217   \n",
       "41            Utah                 3.126667  45320.00000            84897   \n",
       "16           Maine                 1.338333  48095.16667            35380   \n",
       "24        Nebraska                 1.923333  52263.16667            77348   \n",
       "4         Colorado                 5.638333  57652.50000           104094   \n",
       "20       Minnesota                 5.588333  56028.16667            86936   \n",
       "12            Iowa                 3.148333  48747.16667            56273   \n",
       "3       California                39.288333  61164.00000           163695   \n",
       "47         Wyoming                 0.581667  60038.00000            97093   \n",
       "6         Delaware                 0.964258  51712.66667             2489   \n",
       "46       Wisconsin                 5.806667  50375.50000            54158   \n",
       "23         Montana                 1.056667  47674.50000           147040   \n",
       "0          Alabama                 4.898333  59122.00000           665384   \n",
       "38    South Dakota                 0.873333  52731.33333            77116   \n",
       "5      Connecticut                 3.580000  72155.66667             5543   \n",
       "36    Rhode Island                 1.066667  52879.66667             1545   \n",
       "15       Louisiana                 4.663333  45738.00000            52378   \n",
       "35    Pennsylvania                12.823333  54366.00000            46054   \n",
       "28      New Mexico                 2.096667  41307.33333           121590   \n",
       "9            Idaho                 1.740000  43262.16667            83569   \n",
       "11         Indiana                 6.686667  46540.00000            36420   \n",
       "43        Virginia                 8.488333  56377.66667            39490   \n",
       "32            Ohio                11.683333  48034.50000            44826   \n",
       "29        New York                19.670000  63911.00000            54555   \n",
       "27      New Jersey                 8.948333  64505.00000             8723   \n",
       "2         Arkansas                 3.001667  42932.16667            53179   \n",
       "30  North Carolina                10.305000  46099.33333            53819   \n",
       "33        Oklahoma                 3.938333  46236.16667            69899   \n",
       "44      Washington                 7.453333  59671.00000            66456   \n",
       "10        Illinois                12.773333  55700.50000            57914   \n",
       "40           Texas                28.583333  50827.33333           268596   \n",
       "19        Michigan                 9.983333  47275.83333            96714   \n",
       "18   Massachusetts                 6.876667  69107.33333            10554   \n",
       "34          Oregon                 4.150000  49826.16667            98379   \n",
       "21     Mississippi                 2.981667  38086.16667            48432   \n",
       "\n",
       "    Temperature  TotalCapitalOutlays  PopualtionDensity  Politicalscore  \\\n",
       "25    51.966667          1193.666667          27.110982        0.555556   \n",
       "22    55.950000           806.166667          87.747168        0.280034   \n",
       "37    64.583333          1056.333333         157.474329        0.369608   \n",
       "42    43.483333           958.666667          68.121099        0.605556   \n",
       "41    50.100000          1468.000000          36.832002        0.182692   \n",
       "16    42.083333           721.500000          37.900137        0.528674   \n",
       "24    49.816667          1786.666667          24.855474        0.302721   \n",
       "4     47.033333          1448.166667          54.189720        0.546667   \n",
       "20    42.083333          1458.000000          64.288584        0.493367   \n",
       "12    48.816667          1540.666667          55.975186        0.432222   \n",
       "3     60.066667          1279.333333         240.085284        0.687500   \n",
       "47    42.150000          2513.333333           5.986781        0.137037   \n",
       "6     57.216667          1218.500000         387.277153        0.596774   \n",
       "46    44.183333          1111.500000         107.275201        0.372475   \n",
       "23    42.816667          1109.333333           7.190402        0.406667   \n",
       "0     64.816667          3259.500000           7.370052        0.278571   \n",
       "38    45.866667          1432.500000          11.336316        0.165079   \n",
       "5     50.750000          1159.500000         646.167599        0.567736   \n",
       "36    51.466667           793.000000         688.903021        0.858407   \n",
       "15    68.133333          1061.333333          89.103914        0.375000   \n",
       "35    50.200000          1165.166667         278.599307        0.411726   \n",
       "28    55.450000          1095.000000          17.252488        0.577381   \n",
       "9     44.666667           851.000000          20.814170        0.187302   \n",
       "11    53.000000           970.000000         183.628167        0.271111   \n",
       "43    56.950000          1169.500000         215.054106        0.439286   \n",
       "32    52.550000          1029.333333         260.655750        0.335859   \n",
       "29    46.533333          1822.500000         360.785870        0.653870   \n",
       "27    54.483333           931.333333        1026.100061        0.637500   \n",
       "2     61.666667           932.666667          56.476153        0.279012   \n",
       "30    60.716667           984.500000         191.403618        0.388235   \n",
       "33    60.916667          1216.833333          56.356982        0.232662   \n",
       "44    48.033333          1743.833333         112.207819        0.532880   \n",
       "10    53.183333          1162.833333         220.630006        0.616761   \n",
       "40    66.483333          1431.833333         105.753922        0.383057   \n",
       "19    45.600000           758.666667         103.250760        0.413288   \n",
       "18    49.483333          1306.166667         652.183122        0.792500   \n",
       "34    48.633333          1318.000000          42.177052        0.594444   \n",
       "21    65.316667           886.333333          61.577349        0.391762   \n",
       "\n",
       "    Precipitation  \n",
       "25      10.433333  \n",
       "22      46.595000  \n",
       "37      52.780000  \n",
       "42      44.340000  \n",
       "41      13.006667  \n",
       "16      44.485000  \n",
       "24      26.260000  \n",
       "4       17.303333  \n",
       "20      30.240000  \n",
       "12      38.163333  \n",
       "3       21.370000  \n",
       "47      16.471667  \n",
       "6       48.905000  \n",
       "46      38.553333  \n",
       "23      18.960000  \n",
       "0       59.988333  \n",
       "38      21.985000  \n",
       "5       46.225000  \n",
       "36      49.343333  \n",
       "15      65.611667  \n",
       "35      47.798333  \n",
       "28      13.586667  \n",
       "9       23.951667  \n",
       "11      46.408333  \n",
       "43      51.276667  \n",
       "32      44.338333  \n",
       "29      43.711667  \n",
       "27      49.088333  \n",
       "2       60.300000  \n",
       "30      57.155000  \n",
       "33      41.453333  \n",
       "44      43.460000  \n",
       "10      43.990000  \n",
       "40      31.726667  \n",
       "19      36.696667  \n",
       "18      46.868333  \n",
       "34      30.878333  \n",
       "21      62.723333  "
      ]
     },
     "execution_count": 3,
     "metadata": {},
     "output_type": "execute_result"
    }
   ],
   "source": [
    "data_tr"
   ]
  },
  {
   "cell_type": "code",
   "execution_count": 4,
   "id": "dc44f28b",
   "metadata": {},
   "outputs": [
    {
     "data": {
      "text/html": [
       "<div>\n",
       "<style scoped>\n",
       "    .dataframe tbody tr th:only-of-type {\n",
       "        vertical-align: middle;\n",
       "    }\n",
       "\n",
       "    .dataframe tbody tr th {\n",
       "        vertical-align: top;\n",
       "    }\n",
       "\n",
       "    .dataframe thead th {\n",
       "        text-align: right;\n",
       "    }\n",
       "</style>\n",
       "<table border=\"1\" class=\"dataframe\">\n",
       "  <thead>\n",
       "    <tr style=\"text-align: right;\">\n",
       "      <th></th>\n",
       "      <th>State</th>\n",
       "      <th>Population(In millions)</th>\n",
       "      <th>Income</th>\n",
       "      <th>Size(sq. miles)</th>\n",
       "      <th>Temperature</th>\n",
       "      <th>TotalCapitalOutlays</th>\n",
       "      <th>PopualtionDensity</th>\n",
       "      <th>Politicalscore</th>\n",
       "      <th>Precipitation</th>\n",
       "    </tr>\n",
       "  </thead>\n",
       "  <tbody>\n",
       "    <tr>\n",
       "      <th>1</th>\n",
       "      <td>Arizona</td>\n",
       "      <td>7.071667</td>\n",
       "      <td>45203.50000</td>\n",
       "      <td>113990</td>\n",
       "      <td>62.000000</td>\n",
       "      <td>897.333333</td>\n",
       "      <td>62.042340</td>\n",
       "      <td>0.429630</td>\n",
       "      <td>11.510000</td>\n",
       "    </tr>\n",
       "    <tr>\n",
       "      <th>7</th>\n",
       "      <td>Florida</td>\n",
       "      <td>21.023333</td>\n",
       "      <td>50756.66667</td>\n",
       "      <td>65758</td>\n",
       "      <td>72.733333</td>\n",
       "      <td>995.833333</td>\n",
       "      <td>319.628045</td>\n",
       "      <td>0.357292</td>\n",
       "      <td>55.916667</td>\n",
       "    </tr>\n",
       "    <tr>\n",
       "      <th>8</th>\n",
       "      <td>Georgia</td>\n",
       "      <td>10.465000</td>\n",
       "      <td>46315.33333</td>\n",
       "      <td>59425</td>\n",
       "      <td>65.550000</td>\n",
       "      <td>924.333333</td>\n",
       "      <td>176.043032</td>\n",
       "      <td>0.359463</td>\n",
       "      <td>52.598333</td>\n",
       "    </tr>\n",
       "    <tr>\n",
       "      <th>13</th>\n",
       "      <td>Kansas</td>\n",
       "      <td>2.915000</td>\n",
       "      <td>50470.33333</td>\n",
       "      <td>82278</td>\n",
       "      <td>55.616667</td>\n",
       "      <td>1253.833333</td>\n",
       "      <td>35.444568</td>\n",
       "      <td>0.274747</td>\n",
       "      <td>31.036667</td>\n",
       "    </tr>\n",
       "    <tr>\n",
       "      <th>14</th>\n",
       "      <td>Kentucky</td>\n",
       "      <td>4.458333</td>\n",
       "      <td>42184.50000</td>\n",
       "      <td>40408</td>\n",
       "      <td>57.200000</td>\n",
       "      <td>1044.333333</td>\n",
       "      <td>110.405019</td>\n",
       "      <td>0.385266</td>\n",
       "      <td>56.821667</td>\n",
       "    </tr>\n",
       "    <tr>\n",
       "      <th>17</th>\n",
       "      <td>Maryland</td>\n",
       "      <td>6.045000</td>\n",
       "      <td>60197.83333</td>\n",
       "      <td>12406</td>\n",
       "      <td>56.283333</td>\n",
       "      <td>1053.833333</td>\n",
       "      <td>487.641182</td>\n",
       "      <td>0.667553</td>\n",
       "      <td>48.315000</td>\n",
       "    </tr>\n",
       "    <tr>\n",
       "      <th>26</th>\n",
       "      <td>New Hampshire</td>\n",
       "      <td>1.353333</td>\n",
       "      <td>60581.16667</td>\n",
       "      <td>9349</td>\n",
       "      <td>44.616667</td>\n",
       "      <td>659.333333</td>\n",
       "      <td>144.845171</td>\n",
       "      <td>0.474057</td>\n",
       "      <td>46.100000</td>\n",
       "    </tr>\n",
       "    <tr>\n",
       "      <th>31</th>\n",
       "      <td>North Dakota</td>\n",
       "      <td>0.763333</td>\n",
       "      <td>55314.50000</td>\n",
       "      <td>70698</td>\n",
       "      <td>41.500000</td>\n",
       "      <td>2866.833333</td>\n",
       "      <td>10.776557</td>\n",
       "      <td>0.202128</td>\n",
       "      <td>17.940000</td>\n",
       "    </tr>\n",
       "    <tr>\n",
       "      <th>39</th>\n",
       "      <td>Tennessee</td>\n",
       "      <td>6.745000</td>\n",
       "      <td>46579.50000</td>\n",
       "      <td>42144</td>\n",
       "      <td>59.466667</td>\n",
       "      <td>864.000000</td>\n",
       "      <td>160.088917</td>\n",
       "      <td>0.232323</td>\n",
       "      <td>60.366667</td>\n",
       "    </tr>\n",
       "    <tr>\n",
       "      <th>45</th>\n",
       "      <td>West Virginia</td>\n",
       "      <td>1.815000</td>\n",
       "      <td>40576.33333</td>\n",
       "      <td>24038</td>\n",
       "      <td>53.683333</td>\n",
       "      <td>870.666667</td>\n",
       "      <td>75.501165</td>\n",
       "      <td>0.385572</td>\n",
       "      <td>51.350000</td>\n",
       "    </tr>\n",
       "  </tbody>\n",
       "</table>\n",
       "</div>"
      ],
      "text/plain": [
       "            State  Population(In millions)       Income  Size(sq. miles)  \\\n",
       "1         Arizona                 7.071667  45203.50000           113990   \n",
       "7         Florida                21.023333  50756.66667            65758   \n",
       "8         Georgia                10.465000  46315.33333            59425   \n",
       "13         Kansas                 2.915000  50470.33333            82278   \n",
       "14       Kentucky                 4.458333  42184.50000            40408   \n",
       "17       Maryland                 6.045000  60197.83333            12406   \n",
       "26  New Hampshire                 1.353333  60581.16667             9349   \n",
       "31   North Dakota                 0.763333  55314.50000            70698   \n",
       "39      Tennessee                 6.745000  46579.50000            42144   \n",
       "45  West Virginia                 1.815000  40576.33333            24038   \n",
       "\n",
       "    Temperature  TotalCapitalOutlays  PopualtionDensity  Politicalscore  \\\n",
       "1     62.000000           897.333333          62.042340        0.429630   \n",
       "7     72.733333           995.833333         319.628045        0.357292   \n",
       "8     65.550000           924.333333         176.043032        0.359463   \n",
       "13    55.616667          1253.833333          35.444568        0.274747   \n",
       "14    57.200000          1044.333333         110.405019        0.385266   \n",
       "17    56.283333          1053.833333         487.641182        0.667553   \n",
       "26    44.616667           659.333333         144.845171        0.474057   \n",
       "31    41.500000          2866.833333          10.776557        0.202128   \n",
       "39    59.466667           864.000000         160.088917        0.232323   \n",
       "45    53.683333           870.666667          75.501165        0.385572   \n",
       "\n",
       "    Precipitation  \n",
       "1       11.510000  \n",
       "7       55.916667  \n",
       "8       52.598333  \n",
       "13      31.036667  \n",
       "14      56.821667  \n",
       "17      48.315000  \n",
       "26      46.100000  \n",
       "31      17.940000  \n",
       "39      60.366667  \n",
       "45      51.350000  "
      ]
     },
     "execution_count": 4,
     "metadata": {},
     "output_type": "execute_result"
    }
   ],
   "source": [
    "data_te"
   ]
  },
  {
   "cell_type": "code",
   "execution_count": 5,
   "id": "9f753452",
   "metadata": {},
   "outputs": [],
   "source": [
    "cap_tr=data_tr[\"TotalCapitalOutlays\"]"
   ]
  },
  {
   "cell_type": "code",
   "execution_count": 6,
   "id": "50920c8d",
   "metadata": {},
   "outputs": [],
   "source": [
    "inc_tr=data_tr[\"Income\"]"
   ]
  },
  {
   "cell_type": "code",
   "execution_count": 7,
   "id": "8ac3898f",
   "metadata": {},
   "outputs": [],
   "source": [
    "tem_tr=data_tr[\"Temperature\"]"
   ]
  },
  {
   "cell_type": "code",
   "execution_count": 8,
   "id": "4961d126",
   "metadata": {},
   "outputs": [],
   "source": [
    "Pd_tr=data_tr[\"PopualtionDensity\"]"
   ]
  },
  {
   "cell_type": "code",
   "execution_count": 9,
   "id": "64d667bf",
   "metadata": {},
   "outputs": [],
   "source": [
    "Ps_tr=data_tr[\"Politicalscore\"]"
   ]
  },
  {
   "cell_type": "code",
   "execution_count": 10,
   "id": "bae04e75",
   "metadata": {},
   "outputs": [],
   "source": [
    "Pr_tr=data_tr[\"Precipitation\"]"
   ]
  },
  {
   "cell_type": "code",
   "execution_count": 11,
   "id": "b5b9aa82",
   "metadata": {},
   "outputs": [],
   "source": [
    "cap_te=data_te[\"TotalCapitalOutlays\"]"
   ]
  },
  {
   "cell_type": "code",
   "execution_count": 12,
   "id": "0c02e9af",
   "metadata": {},
   "outputs": [],
   "source": [
    "inc_te=data_te[\"Income\"]"
   ]
  },
  {
   "cell_type": "code",
   "execution_count": 13,
   "id": "d2801769",
   "metadata": {},
   "outputs": [],
   "source": [
    "Pd_te=data_te[\"PopualtionDensity\"]"
   ]
  },
  {
   "cell_type": "code",
   "execution_count": 14,
   "id": "cec6e8ce",
   "metadata": {},
   "outputs": [],
   "source": [
    "tem_te=data_te[\"Temperature\"]"
   ]
  },
  {
   "cell_type": "code",
   "execution_count": 15,
   "id": "47ff0e74",
   "metadata": {},
   "outputs": [],
   "source": [
    "Ps_te=data_te[\"Politicalscore\"]"
   ]
  },
  {
   "cell_type": "code",
   "execution_count": 16,
   "id": "e4752d93",
   "metadata": {},
   "outputs": [],
   "source": [
    "Pr_te=data_te[\"Precipitation\"]"
   ]
  },
  {
   "cell_type": "markdown",
   "id": "314f652d",
   "metadata": {},
   "source": [
    "### Train"
   ]
  },
  {
   "cell_type": "code",
   "execution_count": 17,
   "id": "ff2dce3e",
   "metadata": {},
   "outputs": [],
   "source": [
    "def simp_fun(X,A,B):\n",
    "    return A*X+B\n",
    "    "
   ]
  },
  {
   "cell_type": "code",
   "execution_count": 18,
   "id": "51b157b0",
   "metadata": {},
   "outputs": [
    {
     "name": "stdout",
     "output_type": "stream",
     "text": [
      "0.16667385145402647\n"
     ]
    },
    {
     "data": {
      "text/plain": [
       "0.025699523093474005"
      ]
     },
     "execution_count": 18,
     "metadata": {},
     "output_type": "execute_result"
    }
   ],
   "source": [
    "ppop_inc,pcov_inc=curve_fit(simp_fun,inc_tr,cap_tr)\n",
    "A=ppop_inc[0]\n",
    "B=ppop_inc[1]\n",
    "sim_pre_inc=A*inc_tr+B\n",
    "rsquared_inc=r2_score(cap_tr,sim_pre_inc)\n",
    "re1=cap_tr-sim_pre_inc\n",
    "print(rsquared_inc)\n",
    "A"
   ]
  },
  {
   "cell_type": "code",
   "execution_count": 19,
   "id": "d2c68e92",
   "metadata": {
    "scrolled": true
   },
   "outputs": [
    {
     "data": {
      "text/plain": [
       "<matplotlib.lines._AxLine at 0x17a94099fd0>"
      ]
     },
     "execution_count": 19,
     "metadata": {},
     "output_type": "execute_result"
    },
    {
     "data": {
      "image/png": "[encoded data removed]",
      "text/plain": [
       "<Figure size 432x288 with 1 Axes>"
      ]
     },
     "metadata": {
      "needs_background": "light"
     },
     "output_type": "display_data"
    }
   ],
   "source": [
    "plt.scatter(sim_pre_inc, cap_tr, color = \"orange\", label = \"Predict fit\")\n",
    "plt.legend()\n",
    "plt.title(\"The predict compare to the real data(predict only based on the income)\")\n",
    "plt.axline((0, 0), slope=1)"
   ]
  },
  {
   "cell_type": "code",
   "execution_count": 20,
   "id": "c4e95ec6",
   "metadata": {},
   "outputs": [
    {
     "name": "stdout",
     "output_type": "stream",
     "text": [
      "0.04658621879020297\n"
     ]
    },
    {
     "data": {
      "text/plain": [
       "-0.45669257630204996"
      ]
     },
     "execution_count": 20,
     "metadata": {},
     "output_type": "execute_result"
    }
   ],
   "source": [
    "ppop_pd,pcov_pd=curve_fit(simp_fun,Pd_tr,cap_tr)\n",
    "A=ppop_pd[0]\n",
    "B=ppop_pd[1]\n",
    "sim_pre_pd=A*Pd_tr+B\n",
    "rsquared_pd=r2_score(cap_tr, sim_pre_pd)\n",
    "re2=cap_tr-sim_pre_pd\n",
    "print(rsquared_pd)\n",
    "A\n"
   ]
  },
  {
   "cell_type": "code",
   "execution_count": 21,
   "id": "ac8a81eb",
   "metadata": {
    "scrolled": true
   },
   "outputs": [
    {
     "data": {
      "text/plain": [
       "<matplotlib.lines._AxLine at 0x17a94199ee0>"
      ]
     },
     "execution_count": 21,
     "metadata": {},
     "output_type": "execute_result"
    },
    {
     "data": {
      "image/png": "[encoded data removed]",
      "text/plain": [
       "<Figure size 432x288 with 1 Axes>"
      ]
     },
     "metadata": {
      "needs_background": "light"
     },
     "output_type": "display_data"
    }
   ],
   "source": [
    "plt.scatter(sim_pre_pd, cap_tr, color = \"orange\", label = \"Predict fit\")\n",
    "plt.legend()\n",
    "plt.title(\"The predict compare to the real data(predict only based on the population density)\")\n",
    "plt.axline((0, 0), slope=1)"
   ]
  },
  {
   "cell_type": "code",
   "execution_count": 22,
   "id": "5f6fead4",
   "metadata": {},
   "outputs": [
    {
     "name": "stdout",
     "output_type": "stream",
     "text": [
      "2.4522081430999876e-06\n"
     ]
    },
    {
     "data": {
      "text/plain": [
       "2.4522081430999876e-06"
      ]
     },
     "execution_count": 22,
     "metadata": {},
     "output_type": "execute_result"
    }
   ],
   "source": [
    "ppop_tem,pcov_tem=curve_fit(simp_fun,tem_tr,cap_tr)\n",
    "A=ppop_tem[0]\n",
    "B=ppop_tem[1]\n",
    "sim_pre_tem=A*tem_tr+B\n",
    "rsquared_tem=r2_score(cap_tr, sim_pre_tem)\n",
    "re3=cap_tr-sim_pre_tem\n",
    "print(rsquared_tem)\n",
    "rsquared_tem"
   ]
  },
  {
   "cell_type": "code",
   "execution_count": 23,
   "id": "e505d590",
   "metadata": {
    "scrolled": true
   },
   "outputs": [
    {
     "data": {
      "text/plain": [
       "<matplotlib.lines._AxLine at 0x17a9422a820>"
      ]
     },
     "execution_count": 23,
     "metadata": {},
     "output_type": "execute_result"
    },
    {
     "data": {
      "image/png": "[encoded data removed]",
      "text/plain": [
       "<Figure size 432x288 with 1 Axes>"
      ]
     },
     "metadata": {
      "needs_background": "light"
     },
     "output_type": "display_data"
    }
   ],
   "source": [
    "plt.scatter(sim_pre_tem, cap_tr, color = \"orange\", label = \"Predict fit\")\n",
    "plt.legend()\n",
    "plt.title(\"The predict compare to the real data(predict only based on the Temperature)\")\n",
    "plt.axline((0, 0), slope=1)"
   ]
  },
  {
   "cell_type": "code",
   "execution_count": 24,
   "id": "6ce6260d",
   "metadata": {},
   "outputs": [
    {
     "name": "stdout",
     "output_type": "stream",
     "text": [
      "0.02220514609609181\n",
      "-4.805239484820298\n"
     ]
    }
   ],
   "source": [
    "ppop_pr,pcov_pr=curve_fit(simp_fun,Pr_tr,cap_tr)\n",
    "A=ppop_pr[0]\n",
    "B=ppop_pr[1]\n",
    "sim_pre_pr=A*Pr_tr+B\n",
    "rsquared_pr=r2_score(cap_tr, sim_pre_pr)\n",
    "re_com=cap_tr-sim_pre_pr\n",
    "print(rsquared_pr)\n",
    "print(A)"
   ]
  },
  {
   "cell_type": "code",
   "execution_count": 25,
   "id": "32ba490c",
   "metadata": {},
   "outputs": [
    {
     "data": {
      "text/plain": [
       "Text(0.5, 1.0, 'The predict compare to the real data(predict only based on the Precipitation)')"
      ]
     },
     "execution_count": 25,
     "metadata": {},
     "output_type": "execute_result"
    },
    {
     "data": {
      "image/png": "[encoded data removed]",
      "text/plain": [
       "<Figure size 504x504 with 1 Axes>"
      ]
     },
     "metadata": {
      "needs_background": "light"
     },
     "output_type": "display_data"
    }
   ],
   "source": [
    "plt.figure(figsize=[7,7])\n",
    "plt.axline((0, 0), slope=1,color=\"Red\")\n",
    "plt.scatter(sim_pre_pr, cap_tr, color = \"orange\", label = \"Predict fit\")\n",
    "plt.legend()\n",
    "\n",
    "plt.title(\"The predict compare to the real data(predict only based on the Precipitation)\")"
   ]
  },
  {
   "cell_type": "markdown",
   "id": "73176db4",
   "metadata": {},
   "source": [
    "Conclunsion: the Size of each state don't have significant influence on the Expenidture of Infrastructure"
   ]
  },
  {
   "cell_type": "code",
   "execution_count": 26,
   "id": "845d2a2a",
   "metadata": {},
   "outputs": [],
   "source": [
    "def simp2_fun(X,A,B,C):\n",
    "    x,y=X\n",
    "    return A*x+B*y+C"
   ]
  },
  {
   "cell_type": "code",
   "execution_count": 27,
   "id": "fbea2ada",
   "metadata": {
    "scrolled": true
   },
   "outputs": [
    {
     "name": "stdout",
     "output_type": "stream",
     "text": [
      "0.1787683627998019\n",
      "0.027536907040020483 7.273437537730094\n"
     ]
    }
   ],
   "source": [
    "x=inc_tr\n",
    "y=tem_tr\n",
    "\n",
    "ppop2,pcov2=curve_fit(simp2_fun,(inc_tr,tem_tr),cap_tr)\n",
    "A2=ppop2[0]\n",
    "B2=ppop2[1]\n",
    "C2=ppop2[2]\n",
    "sim_pre2=A2*inc_tr+B2*tem_tr+C2\n",
    "rsquared2=r2_score(cap_tr, sim_pre2)\n",
    "re4=cap_tr-sim_pre2\n",
    "MSE4=mean_squared_error(cap_tr, sim_pre2)\n",
    "RMSE4 = math.sqrt(MSE4)\n",
    "print(rsquared2)\n",
    "print(A2,B2)"
   ]
  },
  {
   "cell_type": "code",
   "execution_count": 28,
   "id": "c914c22e",
   "metadata": {},
   "outputs": [
    {
     "data": {
      "text/plain": [
       "Text(0.5, 1.0, 'The predict compare to the real data(predict  based on the Precipitation and the average income)')"
      ]
     },
     "execution_count": 28,
     "metadata": {},
     "output_type": "execute_result"
    },
    {
     "data": {
      "image/png": "[encoded data removed]",
      "text/plain": [
       "<Figure size 504x504 with 1 Axes>"
      ]
     },
     "metadata": {
      "needs_background": "light"
     },
     "output_type": "display_data"
    }
   ],
   "source": [
    "plt.figure(figsize=[7,7])\n",
    "plt.axline((0, 0), slope=1,color=\"Red\")\n",
    "plt.scatter(sim_pre2,cap_tr, label = \"Exact Data\")\n",
    "\n",
    "plt.title(\"The predict compare to the real data(predict  based on the Precipitation and the average income)\")"
   ]
  },
  {
   "cell_type": "code",
   "execution_count": 29,
   "id": "aaaacb42",
   "metadata": {},
   "outputs": [],
   "source": [
    "def simp3_fun(X,A,B,C,D):\n",
    "    x,y,z=X\n",
    "    return A*x+B*y+C*z+D"
   ]
  },
  {
   "cell_type": "code",
   "execution_count": 30,
   "id": "0cbcccd6",
   "metadata": {},
   "outputs": [
    {
     "name": "stdout",
     "output_type": "stream",
     "text": [
      "0.5635816910768189\n",
      "0.06023165610677886 18.563865717385173 -1.691002274829267\n"
     ]
    }
   ],
   "source": [
    "x=inc_tr\n",
    "y=tem_tr\n",
    "z=Pd_tr\n",
    "ppop6,pcov6=curve_fit(simp3_fun,(inc_tr,tem_tr,Pd_tr),cap_tr)\n",
    "A6=ppop6[0]\n",
    "B6=ppop6[1]\n",
    "C6=ppop6[2]\n",
    "D6=ppop6[3]\n",
    "sim_pre6=A6*inc_tr+B6*tem_tr+C6*Pd_tr+D6\n",
    "rsquared6=r2_score(cap_tr, sim_pre6)\n",
    "re5=cap_tr-sim_pre6\n",
    "MSE5=mean_squared_error(cap_tr, sim_pre6)\n",
    "RMSE5 = math.sqrt(MSE5)\n",
    "print(rsquared6)\n",
    "print(A6,B6,C6)"
   ]
  },
  {
   "cell_type": "code",
   "execution_count": 31,
   "id": "7f660ddf",
   "metadata": {
    "scrolled": true
   },
   "outputs": [
    {
     "data": {
      "text/plain": [
       "Text(0.5, 1.0, 'The predict compare to the real data(predict  based on the Popualtion Denisty , the average income,and the average Precipitation)')"
      ]
     },
     "execution_count": 31,
     "metadata": {},
     "output_type": "execute_result"
    },
    {
     "data": {
      "image/png": "[encoded data removed]",
      "text/plain": [
       "<Figure size 504x504 with 1 Axes>"
      ]
     },
     "metadata": {
      "needs_background": "light"
     },
     "output_type": "display_data"
    }
   ],
   "source": [
    "plt.figure(figsize=[7,7])\n",
    "plt.axline((0, 0), slope=1,color=\"Red\")\n",
    "plt.scatter(sim_pre6,cap_tr, label = \"Exact Data\")\n",
    "plt.title(\"The predict compare to the real data(predict  based on the Popualtion Denisty , the average income,and the average Precipitation)\")"
   ]
  },
  {
   "cell_type": "code",
   "execution_count": 32,
   "id": "4736dee9",
   "metadata": {},
   "outputs": [],
   "source": [
    "def simp8_fun(X,A,B,C,D,E):\n",
    "    x,y,z,v=X\n",
    "    return A*x+B*y+C*z+D*v+E"
   ]
  },
  {
   "cell_type": "code",
   "execution_count": 33,
   "id": "87d266b3",
   "metadata": {},
   "outputs": [
    {
     "name": "stdout",
     "output_type": "stream",
     "text": [
      "0.5519590704744184\n",
      "0.05712278664365739 3.008483217492758 -1.3000886295586145 -790.633843299452\n"
     ]
    }
   ],
   "source": [
    "x=inc_tr\n",
    "y=Pr_tr\n",
    "z=Pd_tr\n",
    "v=Ps_tr\n",
    "ppop8,pcov8=curve_fit(simp8_fun,(inc_tr,Pr_tr,Pd_tr,Ps_tr),cap_tr)\n",
    "A8=ppop8[0]\n",
    "B8=ppop8[1]\n",
    "C8=ppop8[2]\n",
    "D8=ppop8[3]\n",
    "E8=ppop8[4]\n",
    "sim_pre8=A8*inc_tr+B8*Pr_tr+C8*Pd_tr+D8*Ps_tr+E8\n",
    "rsquared8=r2_score(cap_tr, sim_pre8)\n",
    "re6=cap_tr-sim_pre8\n",
    "MSE6=mean_squared_error(cap_tr, sim_pre8)\n",
    "RMSE6 = math.sqrt(MSE6)\n",
    "print(rsquared8)\n",
    "print(A8,B8,C8,D8)"
   ]
  },
  {
   "cell_type": "code",
   "execution_count": 34,
   "id": "1212374d",
   "metadata": {
    "scrolled": true
   },
   "outputs": [
    {
     "data": {
      "text/plain": [
       "Text(0.5, 1.0, 'Final model')"
      ]
     },
     "execution_count": 34,
     "metadata": {},
     "output_type": "execute_result"
    },
    {
     "data": {
      "image/png": "[encoded data removed]",
      "text/plain": [
       "<Figure size 504x504 with 1 Axes>"
      ]
     },
     "metadata": {
      "needs_background": "light"
     },
     "output_type": "display_data"
    }
   ],
   "source": [
    "plt.figure(figsize=[7,7])\n",
    "plt.scatter(sim_pre8,cap_tr, label = \"Exact Data\")\n",
    "plt.axline((0, 0), slope=1,color=\"Red\")\n",
    "plt.title(\"Final model\")"
   ]
  },
  {
   "cell_type": "markdown",
   "id": "f598b61f",
   "metadata": {},
   "source": [
    "### Test"
   ]
  },
  {
   "cell_type": "code",
   "execution_count": 35,
   "id": "bfd1e6b4",
   "metadata": {},
   "outputs": [
    {
     "name": "stdout",
     "output_type": "stream",
     "text": [
      "-0.06521943906510286\n"
     ]
    }
   ],
   "source": [
    "\n",
    "A2=ppop2[0]\n",
    "B2=ppop2[1]\n",
    "C2=ppop2[2]\n",
    "sim_pre_te2=A2*inc_te+B2*tem_te+C2\n",
    "rsquared_te2=r2_score(cap_te, sim_pre_te2)\n",
    "re_te2=cap_te-sim_pre_te2\n",
    "MSE_te2=mean_squared_error(cap_te, sim_pre_te2)\n",
    "RMSE_te2 = math.sqrt(MSE_te2)\n",
    "print(rsquared_te2)\n"
   ]
  },
  {
   "cell_type": "code",
   "execution_count": 36,
   "id": "ee7b34ed",
   "metadata": {},
   "outputs": [
    {
     "data": {
      "text/plain": [
       "Text(0.5, 1.0, 'The predict compare to the real data(predict  based on the Precipitation and the average income-test)')"
      ]
     },
     "execution_count": 36,
     "metadata": {},
     "output_type": "execute_result"
    },
    {
     "data": {
      "image/png": "[encoded data removed]",
      "text/plain": [
       "<Figure size 504x504 with 1 Axes>"
      ]
     },
     "metadata": {
      "needs_background": "light"
     },
     "output_type": "display_data"
    }
   ],
   "source": [
    "plt.figure(figsize=[7,7])\n",
    "plt.axline((0, 0), slope=1,color=\"Red\")\n",
    "plt.scatter(sim_pre2,cap_tr, label = \"Test Data\")\n",
    "\n",
    "plt.title(\"The predict compare to the real data(predict  based on the Precipitation and the average income-test)\")"
   ]
  },
  {
   "cell_type": "code",
   "execution_count": 37,
   "id": "0d922294",
   "metadata": {},
   "outputs": [
    {
     "name": "stdout",
     "output_type": "stream",
     "text": [
      "0.06356640654083567\n"
     ]
    }
   ],
   "source": [
    "\n",
    "A6=ppop6[0]\n",
    "B6=ppop6[1]\n",
    "C6=ppop6[2]\n",
    "D6=ppop6[3]\n",
    "sim_pre_te3=A6*inc_te+B6*tem_te+C6*Pd_te+D6\n",
    "re_te3=cap_te-sim_pre_te3\n",
    "rsquared_te3=r2_score(cap_te, sim_pre_te3)\n",
    "MSE_te3=mean_squared_error(cap_te, sim_pre_te3)\n",
    "RMSE_te3 = math.sqrt(MSE_te3)\n",
    "print(rsquared_te3)\n"
   ]
  },
  {
   "cell_type": "code",
   "execution_count": 38,
   "id": "9ebb2d64",
   "metadata": {
    "scrolled": true
   },
   "outputs": [
    {
     "data": {
      "text/plain": [
       "Text(0.5, 1.0, 'The predict compare to the real data(predict  based on the Popualtion Denisty , the average income,and the average Precipitation-test)')"
      ]
     },
     "execution_count": 38,
     "metadata": {},
     "output_type": "execute_result"
    },
    {
     "data": {
      "image/png": "[encoded data removed]",
      "text/plain": [
       "<Figure size 504x504 with 1 Axes>"
      ]
     },
     "metadata": {
      "needs_background": "light"
     },
     "output_type": "display_data"
    }
   ],
   "source": [
    "plt.figure(figsize=[7,7])\n",
    "plt.axline((0, 0), slope=1,color=\"Red\")\n",
    "plt.scatter(sim_pre_te3,cap_te, label = \"Test Data\")\n",
    "plt.title(\"The predict compare to the real data(predict  based on the Popualtion Denisty , the average income,and the average Precipitation-test)\")"
   ]
  },
  {
   "cell_type": "code",
   "execution_count": 39,
   "id": "4150e4b4",
   "metadata": {},
   "outputs": [
    {
     "name": "stdout",
     "output_type": "stream",
     "text": [
      "0.23970698294275372\n"
     ]
    }
   ],
   "source": [
    "\n",
    "A8=ppop8[0]\n",
    "B8=ppop8[1]\n",
    "C8=ppop8[2]\n",
    "D8=ppop8[3]\n",
    "E8=ppop8[4]\n",
    "sim_pre_te4=A8*inc_te+B8*Pr_te+C8*Pd_te+D8*Ps_te+E8\n",
    "rsquared_te4=r2_score(cap_te, sim_pre_te4)\n",
    "re_te4=cap_te-sim_pre_te4\n",
    "MSE_te4=mean_squared_error(cap_te, sim_pre_te4)\n",
    "RMSE_te4 = math.sqrt(MSE_te4)\n",
    "print(rsquared_te4)\n"
   ]
  },
  {
   "cell_type": "code",
   "execution_count": 40,
   "id": "1befceca",
   "metadata": {
    "scrolled": true
   },
   "outputs": [
    {
     "data": {
      "text/plain": [
       "Text(0.5, 1.0, 'final mode-Test ')"
      ]
     },
     "execution_count": 40,
     "metadata": {},
     "output_type": "execute_result"
    },
    {
     "data": {
      "image/png": "[encoded data removed]",
      "text/plain": [
       "<Figure size 504x504 with 1 Axes>"
      ]
     },
     "metadata": {
      "needs_background": "light"
     },
     "output_type": "display_data"
    }
   ],
   "source": [
    "plt.figure(figsize=[7,7])\n",
    "plt.scatter(sim_pre_te4,cap_te, label = \"test Data\")\n",
    "plt.axline((0, 0), slope=1,color=\"Red\")\n",
    "plt.title(\"final mode-Test \")"
   ]
  },
  {
   "cell_type": "code",
   "execution_count": 41,
   "id": "41874a35",
   "metadata": {
    "scrolled": true
   },
   "outputs": [
    {
     "name": "stdout",
     "output_type": "stream",
     "text": [
      "432.2556625941605 315.1079326693139 319.27631342927765\n"
     ]
    }
   ],
   "source": [
    "print(RMSE4,RMSE5,RMSE6)"
   ]
  },
  {
   "cell_type": "code",
   "execution_count": 42,
   "id": "df74f31e",
   "metadata": {},
   "outputs": [
    {
     "name": "stdout",
     "output_type": "stream",
     "text": [
      "612.1057933927689 573.9121788781238 517.1272806219407\n"
     ]
    }
   ],
   "source": [
    "print(RMSE_te2,RMSE_te3,RMSE_te4)"
   ]
  },
  {
   "cell_type": "markdown",
   "id": "e1604674",
   "metadata": {},
   "source": [
    "### Residual"
   ]
  },
  {
   "cell_type": "code",
   "execution_count": 43,
   "id": "06e588d8",
   "metadata": {},
   "outputs": [],
   "source": [
    "residual=pd.concat([re1,re2,re3,re4,re5,re6],axis=1)"
   ]
  },
  {
   "cell_type": "code",
   "execution_count": 44,
   "id": "48060bc9",
   "metadata": {},
   "outputs": [
    {
     "data": {
      "text/html": [
       "<div>\n",
       "<style scoped>\n",
       "    .dataframe tbody tr th:only-of-type {\n",
       "        vertical-align: middle;\n",
       "    }\n",
       "\n",
       "    .dataframe tbody tr th {\n",
       "        vertical-align: top;\n",
       "    }\n",
       "\n",
       "    .dataframe thead th {\n",
       "        text-align: right;\n",
       "    }\n",
       "</style>\n",
       "<table border=\"1\" class=\"dataframe\">\n",
       "  <thead>\n",
       "    <tr style=\"text-align: right;\">\n",
       "      <th></th>\n",
       "      <th>0</th>\n",
       "      <th>1</th>\n",
       "      <th>2</th>\n",
       "      <th>3</th>\n",
       "      <th>4</th>\n",
       "      <th>5</th>\n",
       "    </tr>\n",
       "  </thead>\n",
       "  <tbody>\n",
       "    <tr>\n",
       "      <th>25</th>\n",
       "      <td>0.571366</td>\n",
       "      <td>-142.452470</td>\n",
       "      <td>-73.409978</td>\n",
       "      <td>10.174725</td>\n",
       "      <td>-144.366194</td>\n",
       "      <td>69.030482</td>\n",
       "    </tr>\n",
       "    <tr>\n",
       "      <th>22</th>\n",
       "      <td>-327.181526</td>\n",
       "      <td>-502.260375</td>\n",
       "      <td>-461.308748</td>\n",
       "      <td>-342.279082</td>\n",
       "      <td>-363.247769</td>\n",
       "      <td>-433.464703</td>\n",
       "    </tr>\n",
       "    <tr>\n",
       "      <th>37</th>\n",
       "      <td>-3.192979</td>\n",
       "      <td>-220.249832</td>\n",
       "      <td>-212.006361</td>\n",
       "      <td>-75.806661</td>\n",
       "      <td>17.575076</td>\n",
       "      <td>123.651425</td>\n",
       "    </tr>\n",
       "    <tr>\n",
       "      <th>42</th>\n",
       "      <td>-325.666224</td>\n",
       "      <td>-358.723455</td>\n",
       "      <td>-307.560715</td>\n",
       "      <td>-260.882890</td>\n",
       "      <td>-366.366950</td>\n",
       "      <td>-377.924090</td>\n",
       "    </tr>\n",
       "    <tr>\n",
       "      <th>41</th>\n",
       "      <td>374.250489</td>\n",
       "      <td>136.320381</td>\n",
       "      <td>201.110226</td>\n",
       "      <td>404.533645</td>\n",
       "      <td>413.893462</td>\n",
       "      <td>274.279523</td>\n",
       "    </tr>\n",
       "    <tr>\n",
       "      <th>16</th>\n",
       "      <td>-443.569971</td>\n",
       "      <td>-609.691810</td>\n",
       "      <td>-544.587229</td>\n",
       "      <td>-360.077137</td>\n",
       "      <td>-349.132882</td>\n",
       "      <td>-450.514395</td>\n",
       "    </tr>\n",
       "    <tr>\n",
       "      <th>24</th>\n",
       "      <td>514.481084</td>\n",
       "      <td>449.517456</td>\n",
       "      <td>519.805258</td>\n",
       "      <td>534.067784</td>\n",
       "      <td>299.369126</td>\n",
       "      <td>235.788862</td>\n",
       "    </tr>\n",
       "    <tr>\n",
       "      <th>4</th>\n",
       "      <td>37.477788</td>\n",
       "      <td>124.414188</td>\n",
       "      <td>181.583896</td>\n",
       "      <td>67.406614</td>\n",
       "      <td>-262.465643</td>\n",
       "      <td>-152.610009</td>\n",
       "    </tr>\n",
       "    <tr>\n",
       "      <th>20</th>\n",
       "      <td>89.055713</td>\n",
       "      <td>138.859598</td>\n",
       "      <td>191.912771</td>\n",
       "      <td>157.972579</td>\n",
       "      <td>-45.827685</td>\n",
       "      <td>-117.921471</td>\n",
       "    </tr>\n",
       "    <tr>\n",
       "      <th>12</th>\n",
       "      <td>358.840607</td>\n",
       "      <td>217.729598</td>\n",
       "      <td>273.905367</td>\n",
       "      <td>392.160987</td>\n",
       "      <td>336.331000</td>\n",
       "      <td>297.668101</td>\n",
       "    </tr>\n",
       "    <tr>\n",
       "      <th>3</th>\n",
       "      <td>-221.599422</td>\n",
       "      <td>40.477978</td>\n",
       "      <td>11.445801</td>\n",
       "      <td>-292.919705</td>\n",
       "      <td>-570.401666</td>\n",
       "      <td>-181.236198</td>\n",
       "    </tr>\n",
       "    <tr>\n",
       "      <th>47</th>\n",
       "      <td>1041.338241</td>\n",
       "      <td>1167.566930</td>\n",
       "      <td>1247.239430</td>\n",
       "      <td>1102.402609</td>\n",
       "      <td>668.160673</td>\n",
       "      <td>392.257163</td>\n",
       "    </tr>\n",
       "    <tr>\n",
       "      <th>6</th>\n",
       "      <td>-39.537995</td>\n",
       "      <td>46.866079</td>\n",
       "      <td>-49.102220</td>\n",
       "      <td>-72.763253</td>\n",
       "      <td>239.843263</td>\n",
       "      <td>334.609964</td>\n",
       "    </tr>\n",
       "    <tr>\n",
       "      <th>46</th>\n",
       "      <td>-112.173450</td>\n",
       "      <td>-188.008734</td>\n",
       "      <td>-154.797459</td>\n",
       "      <td>-48.144683</td>\n",
       "      <td>-18.151861</td>\n",
       "      <td>-206.230621</td>\n",
       "    </tr>\n",
       "    <tr>\n",
       "      <th>23</th>\n",
       "      <td>-44.925705</td>\n",
       "      <td>-235.883385</td>\n",
       "      <td>-156.827309</td>\n",
       "      <td>34.006200</td>\n",
       "      <td>-1.505832</td>\n",
       "      <td>-98.248248</td>\n",
       "    </tr>\n",
       "    <tr>\n",
       "      <th>0</th>\n",
       "      <td>1811.045672</td>\n",
       "      <td>1914.365327</td>\n",
       "      <td>1991.136948</td>\n",
       "      <td>1708.928498</td>\n",
       "      <td>1051.057695</td>\n",
       "      <td>1173.529397</td>\n",
       "    </tr>\n",
       "    <tr>\n",
       "      <th>38</th>\n",
       "      <td>148.282757</td>\n",
       "      <td>89.176690</td>\n",
       "      <td>166.034024</td>\n",
       "      <td>195.739334</td>\n",
       "      <td>-32.529651</td>\n",
       "      <td>-258.659696</td>\n",
       "    </tr>\n",
       "    <tr>\n",
       "      <th>5</th>\n",
       "      <td>-623.913346</td>\n",
       "      <td>106.099424</td>\n",
       "      <td>-107.454845</td>\n",
       "      <td>-647.665348</td>\n",
       "      <td>-492.641818</td>\n",
       "      <td>-570.466336</td>\n",
       "    </tr>\n",
       "    <tr>\n",
       "      <th>36</th>\n",
       "      <td>-495.029339</td>\n",
       "      <td>-240.883626</td>\n",
       "      <td>-474.026590</td>\n",
       "      <td>-488.576558</td>\n",
       "      <td>360.845177</td>\n",
       "      <td>440.125128</td>\n",
       "    </tr>\n",
       "    <tr>\n",
       "      <th>15</th>\n",
       "      <td>-43.158578</td>\n",
       "      <td>-246.474092</td>\n",
       "      <td>-207.361749</td>\n",
       "      <td>-144.807773</td>\n",
       "      <td>-264.326494</td>\n",
       "      <td>-94.522640</td>\n",
       "    </tr>\n",
       "    <tr>\n",
       "      <th>35</th>\n",
       "      <td>-161.060730</td>\n",
       "      <td>-56.099619</td>\n",
       "      <td>-101.733117</td>\n",
       "      <td>-148.125893</td>\n",
       "      <td>-26.822756</td>\n",
       "      <td>-154.556007</td>\n",
       "    </tr>\n",
       "    <tr>\n",
       "      <th>28</th>\n",
       "      <td>104.374109</td>\n",
       "      <td>-245.621438</td>\n",
       "      <td>-172.425360</td>\n",
       "      <td>103.117183</td>\n",
       "      <td>150.157335</td>\n",
       "      <td>415.348400</td>\n",
       "    </tr>\n",
       "    <tr>\n",
       "      <th>9</th>\n",
       "      <td>-189.864175</td>\n",
       "      <td>-487.994845</td>\n",
       "      <td>-415.345845</td>\n",
       "      <td>-116.280979</td>\n",
       "      <td>-5.382350</td>\n",
       "      <td>-275.279502</td>\n",
       "    </tr>\n",
       "    <tr>\n",
       "      <th>11</th>\n",
       "      <td>-155.102929</td>\n",
       "      <td>-294.638901</td>\n",
       "      <td>-297.180091</td>\n",
       "      <td>-148.154351</td>\n",
       "      <td>36.808279</td>\n",
       "      <td>-133.143708</td>\n",
       "    </tr>\n",
       "    <tr>\n",
       "      <th>43</th>\n",
       "      <td>-208.426271</td>\n",
       "      <td>-80.786907</td>\n",
       "      <td>-98.075524</td>\n",
       "      <td>-248.283341</td>\n",
       "      <td>-376.416611</td>\n",
       "      <td>-336.423902</td>\n",
       "    </tr>\n",
       "    <tr>\n",
       "      <th>32</th>\n",
       "      <td>-134.177533</td>\n",
       "      <td>-200.127642</td>\n",
       "      <td>-237.801709</td>\n",
       "      <td>-126.701878</td>\n",
       "      <td>144.732960</td>\n",
       "      <td>-1.618589</td>\n",
       "    </tr>\n",
       "    <tr>\n",
       "      <th>29</th>\n",
       "      <td>250.970655</td>\n",
       "      <td>638.767707</td>\n",
       "      <td>555.967284</td>\n",
       "      <td>273.036933</td>\n",
       "      <td>262.644592</td>\n",
       "      <td>268.132316</td>\n",
       "    </tr>\n",
       "    <tr>\n",
       "      <th>27</th>\n",
       "      <td>-655.461528</td>\n",
       "      <td>51.445092</td>\n",
       "      <td>-335.995254</td>\n",
       "      <td>-692.310485</td>\n",
       "      <td>313.165399</td>\n",
       "      <td>178.883614</td>\n",
       "    </tr>\n",
       "    <tr>\n",
       "      <th>2</th>\n",
       "      <td>-99.716666</td>\n",
       "      <td>-390.041615</td>\n",
       "      <td>-335.381041</td>\n",
       "      <td>-149.175571</td>\n",
       "      <td>-159.120459</td>\n",
       "      <td>-165.242298</td>\n",
       "    </tr>\n",
       "    <tr>\n",
       "      <th>30</th>\n",
       "      <td>-129.278006</td>\n",
       "      <td>-276.587910</td>\n",
       "      <td>-283.452603</td>\n",
       "      <td>-177.646446</td>\n",
       "      <td>-52.252496</td>\n",
       "      <td>-23.091647</td>\n",
       "    </tr>\n",
       "    <tr>\n",
       "      <th>33</th>\n",
       "      <td>99.538776</td>\n",
       "      <td>-105.929373</td>\n",
       "      <td>-51.139292</td>\n",
       "      <td>49.464232</td>\n",
       "      <td>-60.237804</td>\n",
       "      <td>-49.910371</td>\n",
       "    </tr>\n",
       "    <tr>\n",
       "      <th>44</th>\n",
       "      <td>281.269966</td>\n",
       "      <td>446.577290</td>\n",
       "      <td>477.150453</td>\n",
       "      <td>300.216596</td>\n",
       "      <td>-8.831702</td>\n",
       "      <td>13.590743</td>\n",
       "    </tr>\n",
       "    <tr>\n",
       "      <th>10</th>\n",
       "      <td>-197.690077</td>\n",
       "      <td>-84.907103</td>\n",
       "      <td>-104.365112</td>\n",
       "      <td>-208.906318</td>\n",
       "      <td>-262.943655</td>\n",
       "      <td>-134.920112</td>\n",
       "    </tr>\n",
       "    <tr>\n",
       "      <th>40</th>\n",
       "      <td>196.547982</td>\n",
       "      <td>131.629842</td>\n",
       "      <td>163.303431</td>\n",
       "      <td>97.548900</td>\n",
       "      <td>-141.579890</td>\n",
       "      <td>115.219604</td>\n",
       "    </tr>\n",
       "    <tr>\n",
       "      <th>19</th>\n",
       "      <td>-385.346828</td>\n",
       "      <td>-542.679999</td>\n",
       "      <td>-507.772614</td>\n",
       "      <td>-325.926820</td>\n",
       "      <td>-217.391286</td>\n",
       "      <td>-349.380170</td>\n",
       "    </tr>\n",
       "    <tr>\n",
       "      <th>18</th>\n",
       "      <td>-398.905966</td>\n",
       "      <td>255.513336</td>\n",
       "      <td>39.338628</td>\n",
       "      <td>-407.843988</td>\n",
       "      <td>-128.682492</td>\n",
       "      <td>-66.079240</td>\n",
       "    </tr>\n",
       "    <tr>\n",
       "      <th>34</th>\n",
       "      <td>108.444155</td>\n",
       "      <td>-11.238575</td>\n",
       "      <td>51.257054</td>\n",
       "      <td>141.115461</td>\n",
       "      <td>28.745074</td>\n",
       "      <td>145.602329</td>\n",
       "    </tr>\n",
       "    <tr>\n",
       "      <th>21</th>\n",
       "      <td>-21.510111</td>\n",
       "      <td>-434.045270</td>\n",
       "      <td>-382.079774</td>\n",
       "      <td>-88.613100</td>\n",
       "      <td>27.296837</td>\n",
       "      <td>153.726892</td>\n",
       "    </tr>\n",
       "  </tbody>\n",
       "</table>\n",
       "</div>"
      ],
      "text/plain": [
       "              0            1            2            3            4  \\\n",
       "25     0.571366  -142.452470   -73.409978    10.174725  -144.366194   \n",
       "22  -327.181526  -502.260375  -461.308748  -342.279082  -363.247769   \n",
       "37    -3.192979  -220.249832  -212.006361   -75.806661    17.575076   \n",
       "42  -325.666224  -358.723455  -307.560715  -260.882890  -366.366950   \n",
       "41   374.250489   136.320381   201.110226   404.533645   413.893462   \n",
       "16  -443.569971  -609.691810  -544.587229  -360.077137  -349.132882   \n",
       "24   514.481084   449.517456   519.805258   534.067784   299.369126   \n",
       "4     37.477788   124.414188   181.583896    67.406614  -262.465643   \n",
       "20    89.055713   138.859598   191.912771   157.972579   -45.827685   \n",
       "12   358.840607   217.729598   273.905367   392.160987   336.331000   \n",
       "3   -221.599422    40.477978    11.445801  -292.919705  -570.401666   \n",
       "47  1041.338241  1167.566930  1247.239430  1102.402609   668.160673   \n",
       "6    -39.537995    46.866079   -49.102220   -72.763253   239.843263   \n",
       "46  -112.173450  -188.008734  -154.797459   -48.144683   -18.151861   \n",
       "23   -44.925705  -235.883385  -156.827309    34.006200    -1.505832   \n",
       "0   1811.045672  1914.365327  1991.136948  1708.928498  1051.057695   \n",
       "38   148.282757    89.176690   166.034024   195.739334   -32.529651   \n",
       "5   -623.913346   106.099424  -107.454845  -647.665348  -492.641818   \n",
       "36  -495.029339  -240.883626  -474.026590  -488.576558   360.845177   \n",
       "15   -43.158578  -246.474092  -207.361749  -144.807773  -264.326494   \n",
       "35  -161.060730   -56.099619  -101.733117  -148.125893   -26.822756   \n",
       "28   104.374109  -245.621438  -172.425360   103.117183   150.157335   \n",
       "9   -189.864175  -487.994845  -415.345845  -116.280979    -5.382350   \n",
       "11  -155.102929  -294.638901  -297.180091  -148.154351    36.808279   \n",
       "43  -208.426271   -80.786907   -98.075524  -248.283341  -376.416611   \n",
       "32  -134.177533  -200.127642  -237.801709  -126.701878   144.732960   \n",
       "29   250.970655   638.767707   555.967284   273.036933   262.644592   \n",
       "27  -655.461528    51.445092  -335.995254  -692.310485   313.165399   \n",
       "2    -99.716666  -390.041615  -335.381041  -149.175571  -159.120459   \n",
       "30  -129.278006  -276.587910  -283.452603  -177.646446   -52.252496   \n",
       "33    99.538776  -105.929373   -51.139292    49.464232   -60.237804   \n",
       "44   281.269966   446.577290   477.150453   300.216596    -8.831702   \n",
       "10  -197.690077   -84.907103  -104.365112  -208.906318  -262.943655   \n",
       "40   196.547982   131.629842   163.303431    97.548900  -141.579890   \n",
       "19  -385.346828  -542.679999  -507.772614  -325.926820  -217.391286   \n",
       "18  -398.905966   255.513336    39.338628  -407.843988  -128.682492   \n",
       "34   108.444155   -11.238575    51.257054   141.115461    28.745074   \n",
       "21   -21.510111  -434.045270  -382.079774   -88.613100    27.296837   \n",
       "\n",
       "              5  \n",
       "25    69.030482  \n",
       "22  -433.464703  \n",
       "37   123.651425  \n",
       "42  -377.924090  \n",
       "41   274.279523  \n",
       "16  -450.514395  \n",
       "24   235.788862  \n",
       "4   -152.610009  \n",
       "20  -117.921471  \n",
       "12   297.668101  \n",
       "3   -181.236198  \n",
       "47   392.257163  \n",
       "6    334.609964  \n",
       "46  -206.230621  \n",
       "23   -98.248248  \n",
       "0   1173.529397  \n",
       "38  -258.659696  \n",
       "5   -570.466336  \n",
       "36   440.125128  \n",
       "15   -94.522640  \n",
       "35  -154.556007  \n",
       "28   415.348400  \n",
       "9   -275.279502  \n",
       "11  -133.143708  \n",
       "43  -336.423902  \n",
       "32    -1.618589  \n",
       "29   268.132316  \n",
       "27   178.883614  \n",
       "2   -165.242298  \n",
       "30   -23.091647  \n",
       "33   -49.910371  \n",
       "44    13.590743  \n",
       "10  -134.920112  \n",
       "40   115.219604  \n",
       "19  -349.380170  \n",
       "18   -66.079240  \n",
       "34   145.602329  \n",
       "21   153.726892  "
      ]
     },
     "execution_count": 44,
     "metadata": {},
     "output_type": "execute_result"
    }
   ],
   "source": [
    "residual"
   ]
  },
  {
   "cell_type": "code",
   "execution_count": 45,
   "id": "52eb309d",
   "metadata": {},
   "outputs": [
    {
     "data": {
      "text/plain": [
       "{'whiskers': [<matplotlib.lines.Line2D at 0x17a94dbea00>,\n",
       "  <matplotlib.lines.Line2D at 0x17a94dbecd0>,\n",
       "  <matplotlib.lines.Line2D at 0x17a94dd0df0>,\n",
       "  <matplotlib.lines.Line2D at 0x17a94dde100>,\n",
       "  <matplotlib.lines.Line2D at 0x17a94dea220>,\n",
       "  <matplotlib.lines.Line2D at 0x17a94dea4f0>,\n",
       "  <matplotlib.lines.Line2D at 0x17a94df9610>,\n",
       "  <matplotlib.lines.Line2D at 0x17a94df98e0>,\n",
       "  <matplotlib.lines.Line2D at 0x17a94e05a00>,\n",
       "  <matplotlib.lines.Line2D at 0x17a94e05cd0>,\n",
       "  <matplotlib.lines.Line2D at 0x17a94e12df0>,\n",
       "  <matplotlib.lines.Line2D at 0x17a94e21100>],\n",
       " 'caps': [<matplotlib.lines.Line2D at 0x17a94dbefa0>,\n",
       "  <matplotlib.lines.Line2D at 0x17a94dd02b0>,\n",
       "  <matplotlib.lines.Line2D at 0x17a94dde3d0>,\n",
       "  <matplotlib.lines.Line2D at 0x17a94dde6a0>,\n",
       "  <matplotlib.lines.Line2D at 0x17a94dea7c0>,\n",
       "  <matplotlib.lines.Line2D at 0x17a94deaa90>,\n",
       "  <matplotlib.lines.Line2D at 0x17a94df9bb0>,\n",
       "  <matplotlib.lines.Line2D at 0x17a94df9e80>,\n",
       "  <matplotlib.lines.Line2D at 0x17a94e05fa0>,\n",
       "  <matplotlib.lines.Line2D at 0x17a94e122b0>,\n",
       "  <matplotlib.lines.Line2D at 0x17a94e213d0>,\n",
       "  <matplotlib.lines.Line2D at 0x17a94e216a0>],\n",
       " 'boxes': [<matplotlib.lines.Line2D at 0x17a94dbe730>,\n",
       "  <matplotlib.lines.Line2D at 0x17a94dd0b20>,\n",
       "  <matplotlib.lines.Line2D at 0x17a94ddef10>,\n",
       "  <matplotlib.lines.Line2D at 0x17a94df9340>,\n",
       "  <matplotlib.lines.Line2D at 0x17a94e05730>,\n",
       "  <matplotlib.lines.Line2D at 0x17a94e12b20>],\n",
       " 'medians': [<matplotlib.lines.Line2D at 0x17a94dd0580>,\n",
       "  <matplotlib.lines.Line2D at 0x17a94dde970>,\n",
       "  <matplotlib.lines.Line2D at 0x17a94dead60>,\n",
       "  <matplotlib.lines.Line2D at 0x17a94e05190>,\n",
       "  <matplotlib.lines.Line2D at 0x17a94e12580>,\n",
       "  <matplotlib.lines.Line2D at 0x17a94e21970>],\n",
       " 'fliers': [<matplotlib.lines.Line2D at 0x17a94dd0850>,\n",
       "  <matplotlib.lines.Line2D at 0x17a94ddec40>,\n",
       "  <matplotlib.lines.Line2D at 0x17a94df9070>,\n",
       "  <matplotlib.lines.Line2D at 0x17a94e05460>,\n",
       "  <matplotlib.lines.Line2D at 0x17a94e12850>,\n",
       "  <matplotlib.lines.Line2D at 0x17a94e21c40>],\n",
       " 'means': []}"
      ]
     },
     "execution_count": 45,
     "metadata": {},
     "output_type": "execute_result"
    },
    {
     "data": {
      "image/png": "[encoded data removed]",
      "text/plain": [
       "<Figure size 504x504 with 1 Axes>"
      ]
     },
     "metadata": {
      "needs_background": "light"
     },
     "output_type": "display_data"
    }
   ],
   "source": [
    "plt.figure(figsize=[7,7])\n",
    "plt.ylim(-6000,4000)\n",
    "plt.boxplot(residual)"
   ]
  }
 ],
 "metadata": {
  "kernelspec": {
   "display_name": "Python 3 (ipykernel)",
   "language": "python",
   "name": "python3"
  },
  "language_info": {
   "codemirror_mode": {
    "name": "ipython",
    "version": 3
   },
   "file_extension": ".py",
   "mimetype": "text/x-python",
   "name": "python",
   "nbconvert_exporter": "python",
   "pygments_lexer": "ipython3",
   "version": "3.9.12"
  }
 },
 "nbformat": 4,
 "nbformat_minor": 5
}
